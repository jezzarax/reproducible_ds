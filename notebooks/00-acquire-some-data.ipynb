{
 "cells": [
  {
   "cell_type": "code",
   "execution_count": 1,
   "metadata": {},
   "outputs": [],
   "source": [
    "from stackapi import StackAPI\n",
    "import pandas as pd\n",
    "from datetime import datetime, timedelta\n",
    "from time import sleep\n",
    "import os\n",
    "from tqdm import tqdm"
   ]
  },
  {
   "cell_type": "code",
   "execution_count": 2,
   "metadata": {},
   "outputs": [],
   "source": [
    "so_website = StackAPI('stackoverflow')"
   ]
  },
  {
   "cell_type": "code",
   "execution_count": 3,
   "metadata": {},
   "outputs": [],
   "source": [
    "so_website.max_pages = 20"
   ]
  },
  {
   "cell_type": "code",
   "execution_count": 4,
   "metadata": {},
   "outputs": [],
   "source": [
    "scrape_date_start = datetime(2018, 1, 1)\n",
    "scrape_date_finish = datetime(2018, 8, 1)"
   ]
  },
  {
   "cell_type": "code",
   "execution_count": 5,
   "metadata": {},
   "outputs": [],
   "source": [
    "date_pairs = [(\n",
    "    scrape_date_start + timedelta(days = x), scrape_date_start + timedelta(days = x + 1)\n",
    ") for x in range((scrape_date_finish - scrape_date_start).days + 1)]"
   ]
  },
  {
   "cell_type": "code",
   "execution_count": 6,
   "metadata": {},
   "outputs": [],
   "source": [
    "all_questions = []"
   ]
  },
  {
   "cell_type": "code",
   "execution_count": 7,
   "metadata": {},
   "outputs": [
    {
     "name": "stderr",
     "output_type": "stream",
     "text": [
      "100%|██████████| 213/213 [05:30<00:00,  1.56s/it, scraped questions count=1584]\n"
     ]
    }
   ],
   "source": [
    "date_itr = tqdm(date_pairs)\n",
    "for (dfrom, dto) in date_itr:\n",
    "    question = so_website.fetch(\n",
    "        'questions',\n",
    "        fromdate = dfrom,\n",
    "        todate = dto,\n",
    "        tagged = \"rust\",\n",
    "        sort = 'creation'\n",
    "    )\n",
    "    all_questions.extend(question['items'])\n",
    "    date_itr.set_postfix({\"scraped questions count\": len(all_questions)})\n",
    "    sleep(1)"
   ]
  },
  {
   "cell_type": "code",
   "execution_count": 8,
   "metadata": {},
   "outputs": [],
   "source": [
    "questions_df = pd.DataFrame(\n",
    "    [(q['question_id'], q['view_count'], q['answer_count'], q['creation_date'], q['title'], q['owner']['reputation'], \",\".join(q[\"tags\"])) for q in all_questions if 'reputation' in q['owner']],\n",
    "    columns=['question_id', 'view_count', 'answer_count', 'creation_date', 'title', 'reputation', 'tags']\n",
    ")"
   ]
  },
  {
   "cell_type": "code",
   "execution_count": 9,
   "metadata": {},
   "outputs": [
    {
     "data": {
      "text/html": [
       "<div>\n",
       "<style scoped>\n",
       "    .dataframe tbody tr th:only-of-type {\n",
       "        vertical-align: middle;\n",
       "    }\n",
       "\n",
       "    .dataframe tbody tr th {\n",
       "        vertical-align: top;\n",
       "    }\n",
       "\n",
       "    .dataframe thead th {\n",
       "        text-align: right;\n",
       "    }\n",
       "</style>\n",
       "<table border=\"1\" class=\"dataframe\">\n",
       "  <thead>\n",
       "    <tr style=\"text-align: right;\">\n",
       "      <th></th>\n",
       "      <th>question_id</th>\n",
       "      <th>view_count</th>\n",
       "      <th>answer_count</th>\n",
       "      <th>creation_date</th>\n",
       "      <th>title</th>\n",
       "      <th>reputation</th>\n",
       "      <th>tags</th>\n",
       "    </tr>\n",
       "  </thead>\n",
       "  <tbody>\n",
       "    <tr>\n",
       "      <th>0</th>\n",
       "      <td>48053933</td>\n",
       "      <td>995</td>\n",
       "      <td>1</td>\n",
       "      <td>1514847365</td>\n",
       "      <td>How to check if a directory exists and create ...</td>\n",
       "      <td>2176</td>\n",
       "      <td>directory,rust</td>\n",
       "    </tr>\n",
       "    <tr>\n",
       "      <th>1</th>\n",
       "      <td>48050155</td>\n",
       "      <td>101</td>\n",
       "      <td>1</td>\n",
       "      <td>1514814164</td>\n",
       "      <td>Is it possible to get the full &amp;quot;namespace...</td>\n",
       "      <td>1128</td>\n",
       "      <td>rust</td>\n",
       "    </tr>\n",
       "    <tr>\n",
       "      <th>2</th>\n",
       "      <td>48068334</td>\n",
       "      <td>942</td>\n",
       "      <td>1</td>\n",
       "      <td>1514929904</td>\n",
       "      <td>Taking multiple values in an argument in Clap</td>\n",
       "      <td>95647</td>\n",
       "      <td>rust,clap</td>\n",
       "    </tr>\n",
       "    <tr>\n",
       "      <th>3</th>\n",
       "      <td>48067874</td>\n",
       "      <td>816</td>\n",
       "      <td>2</td>\n",
       "      <td>1514927374</td>\n",
       "      <td>How do I inspect local variables or use the wa...</td>\n",
       "      <td>2930</td>\n",
       "      <td>rust,visual-studio-code,lldb</td>\n",
       "    </tr>\n",
       "    <tr>\n",
       "      <th>4</th>\n",
       "      <td>48067556</td>\n",
       "      <td>80</td>\n",
       "      <td>2</td>\n",
       "      <td>1514925630</td>\n",
       "      <td>What is the difference between char::is_digit ...</td>\n",
       "      <td>711</td>\n",
       "      <td>unicode,utf-8,rust</td>\n",
       "    </tr>\n",
       "  </tbody>\n",
       "</table>\n",
       "</div>"
      ],
      "text/plain": [
       "   question_id  view_count  answer_count  creation_date  \\\n",
       "0     48053933         995             1     1514847365   \n",
       "1     48050155         101             1     1514814164   \n",
       "2     48068334         942             1     1514929904   \n",
       "3     48067874         816             2     1514927374   \n",
       "4     48067556          80             2     1514925630   \n",
       "\n",
       "                                               title  reputation  \\\n",
       "0  How to check if a directory exists and create ...        2176   \n",
       "1  Is it possible to get the full &quot;namespace...        1128   \n",
       "2      Taking multiple values in an argument in Clap       95647   \n",
       "3  How do I inspect local variables or use the wa...        2930   \n",
       "4  What is the difference between char::is_digit ...         711   \n",
       "\n",
       "                           tags  \n",
       "0                directory,rust  \n",
       "1                          rust  \n",
       "2                     rust,clap  \n",
       "3  rust,visual-studio-code,lldb  \n",
       "4            unicode,utf-8,rust  "
      ]
     },
     "execution_count": 9,
     "metadata": {},
     "output_type": "execute_result"
    }
   ],
   "source": [
    "questions_df.head()"
   ]
  },
  {
   "cell_type": "code",
   "execution_count": 10,
   "metadata": {},
   "outputs": [
    {
     "data": {
      "text/plain": [
       "1567"
      ]
     },
     "execution_count": 10,
     "metadata": {},
     "output_type": "execute_result"
    }
   ],
   "source": [
    "len(questions_df)"
   ]
  },
  {
   "cell_type": "code",
   "execution_count": 11,
   "metadata": {},
   "outputs": [],
   "source": [
    "os.makedirs(\"../data/\", exist_ok=True)"
   ]
  },
  {
   "cell_type": "code",
   "execution_count": 12,
   "metadata": {},
   "outputs": [],
   "source": [
    "questions_df.to_feather(\"../data/00-raw-questions.feather\")"
   ]
  },
  {
   "cell_type": "code",
   "execution_count": null,
   "metadata": {},
   "outputs": [],
   "source": []
  }
 ],
 "metadata": {
  "kernelspec": {
   "display_name": "Python 3",
   "language": "python",
   "name": "python3"
  },
  "language_info": {
   "codemirror_mode": {
    "name": "ipython",
    "version": 3
   },
   "file_extension": ".py",
   "mimetype": "text/x-python",
   "name": "python",
   "nbconvert_exporter": "python",
   "pygments_lexer": "ipython3",
   "version": "3.7.3"
  }
 },
 "nbformat": 4,
 "nbformat_minor": 2
}
