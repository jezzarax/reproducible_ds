{
 "cells": [
  {
   "cell_type": "code",
   "execution_count": 1,
   "metadata": {},
   "outputs": [],
   "source": [
    "import pandas as pd\n",
    "import os"
   ]
  },
  {
   "cell_type": "code",
   "execution_count": 2,
   "metadata": {},
   "outputs": [],
   "source": [
    "input_file = \"../data/00-raw-questions.feather\""
   ]
  },
  {
   "cell_type": "code",
   "execution_count": 3,
   "metadata": {},
   "outputs": [],
   "source": [
    "raw_questions = pd.read_feather(input_file)"
   ]
  },
  {
   "cell_type": "code",
   "execution_count": 4,
   "metadata": {},
   "outputs": [
    {
     "data": {
      "text/html": [
       "<div>\n",
       "<style scoped>\n",
       "    .dataframe tbody tr th:only-of-type {\n",
       "        vertical-align: middle;\n",
       "    }\n",
       "\n",
       "    .dataframe tbody tr th {\n",
       "        vertical-align: top;\n",
       "    }\n",
       "\n",
       "    .dataframe thead th {\n",
       "        text-align: right;\n",
       "    }\n",
       "</style>\n",
       "<table border=\"1\" class=\"dataframe\">\n",
       "  <thead>\n",
       "    <tr style=\"text-align: right;\">\n",
       "      <th></th>\n",
       "      <th>question_id</th>\n",
       "      <th>view_count</th>\n",
       "      <th>answer_count</th>\n",
       "      <th>creation_date</th>\n",
       "      <th>title</th>\n",
       "      <th>reputation</th>\n",
       "      <th>tags</th>\n",
       "    </tr>\n",
       "  </thead>\n",
       "  <tbody>\n",
       "    <tr>\n",
       "      <th>0</th>\n",
       "      <td>48053933</td>\n",
       "      <td>995</td>\n",
       "      <td>1</td>\n",
       "      <td>1514847365</td>\n",
       "      <td>How to check if a directory exists and create ...</td>\n",
       "      <td>2176</td>\n",
       "      <td>directory,rust</td>\n",
       "    </tr>\n",
       "    <tr>\n",
       "      <th>1</th>\n",
       "      <td>48050155</td>\n",
       "      <td>101</td>\n",
       "      <td>1</td>\n",
       "      <td>1514814164</td>\n",
       "      <td>Is it possible to get the full &amp;quot;namespace...</td>\n",
       "      <td>1128</td>\n",
       "      <td>rust</td>\n",
       "    </tr>\n",
       "    <tr>\n",
       "      <th>2</th>\n",
       "      <td>48068334</td>\n",
       "      <td>942</td>\n",
       "      <td>1</td>\n",
       "      <td>1514929904</td>\n",
       "      <td>Taking multiple values in an argument in Clap</td>\n",
       "      <td>95647</td>\n",
       "      <td>rust,clap</td>\n",
       "    </tr>\n",
       "    <tr>\n",
       "      <th>3</th>\n",
       "      <td>48067874</td>\n",
       "      <td>816</td>\n",
       "      <td>2</td>\n",
       "      <td>1514927374</td>\n",
       "      <td>How do I inspect local variables or use the wa...</td>\n",
       "      <td>2930</td>\n",
       "      <td>rust,visual-studio-code,lldb</td>\n",
       "    </tr>\n",
       "    <tr>\n",
       "      <th>4</th>\n",
       "      <td>48067556</td>\n",
       "      <td>80</td>\n",
       "      <td>2</td>\n",
       "      <td>1514925630</td>\n",
       "      <td>What is the difference between char::is_digit ...</td>\n",
       "      <td>711</td>\n",
       "      <td>unicode,utf-8,rust</td>\n",
       "    </tr>\n",
       "  </tbody>\n",
       "</table>\n",
       "</div>"
      ],
      "text/plain": [
       "   question_id  view_count  answer_count  creation_date  \\\n",
       "0     48053933         995             1     1514847365   \n",
       "1     48050155         101             1     1514814164   \n",
       "2     48068334         942             1     1514929904   \n",
       "3     48067874         816             2     1514927374   \n",
       "4     48067556          80             2     1514925630   \n",
       "\n",
       "                                               title  reputation  \\\n",
       "0  How to check if a directory exists and create ...        2176   \n",
       "1  Is it possible to get the full &quot;namespace...        1128   \n",
       "2      Taking multiple values in an argument in Clap       95647   \n",
       "3  How do I inspect local variables or use the wa...        2930   \n",
       "4  What is the difference between char::is_digit ...         711   \n",
       "\n",
       "                           tags  \n",
       "0                directory,rust  \n",
       "1                          rust  \n",
       "2                     rust,clap  \n",
       "3  rust,visual-studio-code,lldb  \n",
       "4            unicode,utf-8,rust  "
      ]
     },
     "execution_count": 4,
     "metadata": {},
     "output_type": "execute_result"
    }
   ],
   "source": [
    "raw_questions.head()"
   ]
  },
  {
   "cell_type": "code",
   "execution_count": 5,
   "metadata": {},
   "outputs": [],
   "source": [
    "raw_questions['creation_date'] = pd.to_datetime(raw_questions['creation_date'], unit='s')"
   ]
  },
  {
   "cell_type": "code",
   "execution_count": 6,
   "metadata": {},
   "outputs": [
    {
     "data": {
      "text/html": [
       "<div>\n",
       "<style scoped>\n",
       "    .dataframe tbody tr th:only-of-type {\n",
       "        vertical-align: middle;\n",
       "    }\n",
       "\n",
       "    .dataframe tbody tr th {\n",
       "        vertical-align: top;\n",
       "    }\n",
       "\n",
       "    .dataframe thead th {\n",
       "        text-align: right;\n",
       "    }\n",
       "</style>\n",
       "<table border=\"1\" class=\"dataframe\">\n",
       "  <thead>\n",
       "    <tr style=\"text-align: right;\">\n",
       "      <th></th>\n",
       "      <th>question_id</th>\n",
       "      <th>view_count</th>\n",
       "      <th>answer_count</th>\n",
       "      <th>creation_date</th>\n",
       "      <th>title</th>\n",
       "      <th>reputation</th>\n",
       "      <th>tags</th>\n",
       "    </tr>\n",
       "  </thead>\n",
       "  <tbody>\n",
       "    <tr>\n",
       "      <th>0</th>\n",
       "      <td>48053933</td>\n",
       "      <td>995</td>\n",
       "      <td>1</td>\n",
       "      <td>2018-01-01 22:56:05</td>\n",
       "      <td>How to check if a directory exists and create ...</td>\n",
       "      <td>2176</td>\n",
       "      <td>directory,rust</td>\n",
       "    </tr>\n",
       "    <tr>\n",
       "      <th>1</th>\n",
       "      <td>48050155</td>\n",
       "      <td>101</td>\n",
       "      <td>1</td>\n",
       "      <td>2018-01-01 13:42:44</td>\n",
       "      <td>Is it possible to get the full &amp;quot;namespace...</td>\n",
       "      <td>1128</td>\n",
       "      <td>rust</td>\n",
       "    </tr>\n",
       "    <tr>\n",
       "      <th>2</th>\n",
       "      <td>48068334</td>\n",
       "      <td>942</td>\n",
       "      <td>1</td>\n",
       "      <td>2018-01-02 21:51:44</td>\n",
       "      <td>Taking multiple values in an argument in Clap</td>\n",
       "      <td>95647</td>\n",
       "      <td>rust,clap</td>\n",
       "    </tr>\n",
       "    <tr>\n",
       "      <th>3</th>\n",
       "      <td>48067874</td>\n",
       "      <td>816</td>\n",
       "      <td>2</td>\n",
       "      <td>2018-01-02 21:09:34</td>\n",
       "      <td>How do I inspect local variables or use the wa...</td>\n",
       "      <td>2930</td>\n",
       "      <td>rust,visual-studio-code,lldb</td>\n",
       "    </tr>\n",
       "    <tr>\n",
       "      <th>4</th>\n",
       "      <td>48067556</td>\n",
       "      <td>80</td>\n",
       "      <td>2</td>\n",
       "      <td>2018-01-02 20:40:30</td>\n",
       "      <td>What is the difference between char::is_digit ...</td>\n",
       "      <td>711</td>\n",
       "      <td>unicode,utf-8,rust</td>\n",
       "    </tr>\n",
       "  </tbody>\n",
       "</table>\n",
       "</div>"
      ],
      "text/plain": [
       "   question_id  view_count  answer_count       creation_date  \\\n",
       "0     48053933         995             1 2018-01-01 22:56:05   \n",
       "1     48050155         101             1 2018-01-01 13:42:44   \n",
       "2     48068334         942             1 2018-01-02 21:51:44   \n",
       "3     48067874         816             2 2018-01-02 21:09:34   \n",
       "4     48067556          80             2 2018-01-02 20:40:30   \n",
       "\n",
       "                                               title  reputation  \\\n",
       "0  How to check if a directory exists and create ...        2176   \n",
       "1  Is it possible to get the full &quot;namespace...        1128   \n",
       "2      Taking multiple values in an argument in Clap       95647   \n",
       "3  How do I inspect local variables or use the wa...        2930   \n",
       "4  What is the difference between char::is_digit ...         711   \n",
       "\n",
       "                           tags  \n",
       "0                directory,rust  \n",
       "1                          rust  \n",
       "2                     rust,clap  \n",
       "3  rust,visual-studio-code,lldb  \n",
       "4            unicode,utf-8,rust  "
      ]
     },
     "execution_count": 6,
     "metadata": {},
     "output_type": "execute_result"
    }
   ],
   "source": [
    "raw_questions.head()"
   ]
  },
  {
   "cell_type": "code",
   "execution_count": 7,
   "metadata": {},
   "outputs": [],
   "source": [
    "y = raw_questions[['view_count']]"
   ]
  },
  {
   "cell_type": "code",
   "execution_count": 8,
   "metadata": {},
   "outputs": [],
   "source": [
    "#X = raw_questions.tags.str.get_dummies(\",\")\n",
    "X = pd.DataFrame()\n",
    "X['reputation'] = raw_questions.reputation"
   ]
  },
  {
   "cell_type": "code",
   "execution_count": 9,
   "metadata": {},
   "outputs": [],
   "source": [
    "os.makedirs(\"../data/\", exist_ok=True)"
   ]
  },
  {
   "cell_type": "code",
   "execution_count": 10,
   "metadata": {},
   "outputs": [],
   "source": [
    "X.to_feather(\"../data/01-feature-engineering-X.feather\")\n",
    "y.to_feather(\"../data/01-feature-engineering-y.feather\")"
   ]
  },
  {
   "cell_type": "code",
   "execution_count": null,
   "metadata": {},
   "outputs": [],
   "source": []
  }
 ],
 "metadata": {
  "kernelspec": {
   "display_name": "Python 3",
   "language": "python",
   "name": "python3"
  },
  "language_info": {
   "codemirror_mode": {
    "name": "ipython",
    "version": 3
   },
   "file_extension": ".py",
   "mimetype": "text/x-python",
   "name": "python",
   "nbconvert_exporter": "python",
   "pygments_lexer": "ipython3",
   "version": "3.7.3"
  }
 },
 "nbformat": 4,
 "nbformat_minor": 2
}
